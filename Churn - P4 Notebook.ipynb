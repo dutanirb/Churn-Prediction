{
 "cells": [
  {
   "cell_type": "code",
   "execution_count": 2,
   "metadata": {
    "execution": {
     "iopub.execute_input": "2020-10-12T14:00:49.797633Z",
     "iopub.status.busy": "2020-10-12T14:00:49.796778Z",
     "iopub.status.idle": "2020-10-12T14:00:57.182715Z",
     "shell.execute_reply": "2020-10-12T14:00:57.183132Z"
    },
    "pycharm": {
     "is_executing": true
    }
   },
   "outputs": [],
   "source": [
    "from ibm_watson_machine_learning.helpers import DataConnection\n",
    "from ibm_watson_machine_learning.helpers import ContainerLocation\n",
    "\n",
    "training_data_references = [\n",
    "    DataConnection(\n",
    "        data_asset_id='93e131fb-ec0a-4d58-94c8-ebb0ae8d8c6e'\n",
    "    ),\n",
    "]\n",
    "training_result_reference = DataConnection(\n",
    "    location=ContainerLocation(\n",
    "        path='auto_ml/b781fa29-d5c4-48a1-8460-71dc403491e7/wml_data/795c2169-f05e-46d8-a74c-369842cf8765/data/automl',\n",
    "        model_location='auto_ml/b781fa29-d5c4-48a1-8460-71dc403491e7/wml_data/795c2169-f05e-46d8-a74c-369842cf8765/data/automl/model.zip',\n",
    "        training_status='auto_ml/b781fa29-d5c4-48a1-8460-71dc403491e7/wml_data/795c2169-f05e-46d8-a74c-369842cf8765/training-status.json'\n",
    "    )\n",
    ")"
   ]
  },
  {
   "cell_type": "markdown",
   "metadata": {},
   "source": [
    "Following cell contains input parameters provided to run the AutoAI experiment in Watson Studio."
   ]
  },
  {
   "cell_type": "code",
   "execution_count": 3,
   "metadata": {
    "execution": {
     "iopub.execute_input": "2020-10-12T14:00:57.187305Z",
     "iopub.status.busy": "2020-10-12T14:00:57.186602Z",
     "iopub.status.idle": "2020-10-12T14:00:57.188392Z",
     "shell.execute_reply": "2020-10-12T14:00:57.188878Z"
    },
    "pycharm": {
     "name": "#%%\n"
    }
   },
   "outputs": [],
   "source": [
    "experiment_metadata = dict(\n",
    "    prediction_type='binary',\n",
    "    prediction_column='churn',\n",
    "    holdout_size=0.1,\n",
    "    scoring='accuracy',\n",
    "    csv_separator=',',\n",
    "    random_state=33,\n",
    "    max_number_of_estimators=4,\n",
    "    training_data_references=training_data_references,\n",
    "    training_result_reference=training_result_reference,\n",
    "    deployment_url='https://eu-gb.ml.cloud.ibm.com',\n",
    "    project_id='2d85abbb-9a0d-4da2-b76e-202df7f5aabe',\n",
    "    positive_label='True',\n",
    "    drop_duplicates=True\n",
    ")"
   ]
  },
  {
   "cell_type": "markdown",
   "metadata": {},
   "source": [
    "## Set `n_jobs` parameter to the number of available CPUs"
   ]
  },
  {
   "cell_type": "code",
   "execution_count": 4,
   "metadata": {},
   "outputs": [],
   "source": [
    "import os, ast\n",
    "CPU_NUMBER = 1\n",
    "if 'RUNTIME_HARDWARE_SPEC' in os.environ:\n",
    "    CPU_NUMBER = int(ast.literal_eval(os.environ['RUNTIME_HARDWARE_SPEC'])['num_cpu'])"
   ]
  },
  {
   "cell_type": "markdown",
   "metadata": {},
   "source": [
    "<a id=\"connection\"></a>\n",
    "## Watson Machine Learning connection\n",
    "\n",
    "This cell defines the credentials required to work with the Watson Machine Learning service.\n",
    "\n",
    "**Action:** Please provide IBM Cloud apikey following [docs](https://cloud.ibm.com/docs/account?topic=account-userapikey)."
   ]
  },
  {
   "cell_type": "code",
   "execution_count": 5,
   "metadata": {},
   "outputs": [],
   "source": [
    "api_key = 'JdLCO_t6QthTYecu227qnTpSdTGqVE3BmqCTefAha5Dk'"
   ]
  },
  {
   "cell_type": "code",
   "execution_count": 6,
   "metadata": {},
   "outputs": [],
   "source": [
    "wml_credentials = {\n",
    "    \"apikey\": api_key,\n",
    "    \"url\": experiment_metadata['deployment_url']\n",
    "}"
   ]
  },
  {
   "cell_type": "code",
   "execution_count": 7,
   "metadata": {},
   "outputs": [],
   "source": [
    "from ibm_watson_machine_learning import APIClient\n",
    "\n",
    "wml_client = APIClient(wml_credentials)\n",
    "\n",
    "if 'space_id' in experiment_metadata:\n",
    "    wml_client.set.default_space(experiment_metadata['space_id'])\n",
    "else:\n",
    "    wml_client.set.default_project(experiment_metadata['project_id'])\n",
    "    \n",
    "training_data_references[0]._wml_client = wml_client\n",
    "\n"
   ]
  },
  {
   "cell_type": "markdown",
   "metadata": {},
   "source": [
    "<a id=\"inspection\"></a>\n",
    "# Pipeline inspection"
   ]
  },
  {
   "cell_type": "markdown",
   "metadata": {
    "pycharm": {
     "name": "#%% md\n"
    }
   },
   "source": [
    "<a id=\"read\"></a>\n",
    "## Read training data\n",
    "\n",
    "Retrieve training dataset from AutoAI experiment as pandas DataFrame.\n",
    "\n",
    "**Note**: If reading data results in an error, provide data as Pandas DataFrame object, for example, reading .CSV file with `pandas.read_csv()`. It may be necessary to use methods for initial data pre-processing like: e.g. `DataFrame.dropna()`, `DataFrame.drop_duplicates()`, `DataFrame.sample()`."
   ]
  },
  {
   "cell_type": "code",
   "execution_count": 8,
   "metadata": {
    "execution": {
     "iopub.execute_input": "2020-10-12T14:01:16.076169Z",
     "iopub.status.busy": "2020-10-12T14:01:16.075589Z",
     "iopub.status.idle": "2020-10-12T14:01:19.190233Z",
     "shell.execute_reply": "2020-10-12T14:01:19.190807Z"
    },
    "pycharm": {
     "is_executing": true,
     "name": "#%%\n"
    }
   },
   "outputs": [],
   "source": [
    "train_X, test_X, train_y, test_y = training_data_references[0].read(experiment_metadata=experiment_metadata, with_holdout_split=True)"
   ]
  },
  {
   "cell_type": "markdown",
   "metadata": {
    "pycharm": {
     "name": "#%% md\n"
    }
   },
   "source": [
    "<a id=\"preview_model_to_python_code\"></a>\n",
    "## Make pipeline\n",
    "In the next cell, you can find the Scikit-learn definition of the selected AutoAI pipeline."
   ]
  },
  {
   "cell_type": "markdown",
   "metadata": {
    "pycharm": {
     "name": "#%% md\n"
    }
   },
   "source": [
    "#### Import statements."
   ]
  },
  {
   "cell_type": "code",
   "execution_count": 9,
   "metadata": {
    "pycharm": {
     "is_executing": true,
     "name": "#%%\n"
    }
   },
   "outputs": [],
   "source": [
    "from autoai_libs.transformers.exportable import ColumnSelector\n",
    "from autoai_libs.transformers.exportable import NumpyColumnSelector\n",
    "from autoai_libs.transformers.exportable import CompressStrings\n",
    "from autoai_libs.transformers.exportable import NumpyReplaceMissingValues\n",
    "from autoai_libs.transformers.exportable import NumpyReplaceUnknownValues\n",
    "from autoai_libs.transformers.exportable import boolean2float\n",
    "from autoai_libs.transformers.exportable import CatImputer\n",
    "from autoai_libs.transformers.exportable import CatEncoder\n",
    "import numpy as np\n",
    "from autoai_libs.transformers.exportable import float32_transform\n",
    "from sklearn.pipeline import make_pipeline\n",
    "from autoai_libs.transformers.exportable import FloatStr2Float\n",
    "from autoai_libs.transformers.exportable import NumImputer\n",
    "from autoai_libs.transformers.exportable import OptStandardScaler\n",
    "from sklearn.pipeline import make_union\n",
    "from autoai_libs.transformers.exportable import NumpyPermuteArray\n",
    "from autoai_libs.cognito.transforms.transform_utils import TA2\n",
    "import autoai_libs.utils.fc_methods\n",
    "from autoai_libs.cognito.transforms.transform_utils import FS1\n",
    "from sklearn.ensemble import RandomForestClassifier"
   ]
  },
  {
   "cell_type": "markdown",
   "metadata": {},
   "source": [
    "#### Pre-processing & Estimator."
   ]
  },
  {
   "cell_type": "code",
   "execution_count": 10,
   "metadata": {
    "pycharm": {
     "is_executing": true,
     "name": "#%%\n"
    }
   },
   "outputs": [],
   "source": [
    "column_selector_0 = ColumnSelector(\n",
    "    columns_indices_list=[\n",
    "        0, 1, 2, 4, 5, 6, 7, 8, 9, 10, 11, 12, 13, 14, 15, 16, 17, 18, 19,\n",
    "    ]\n",
    ")\n",
    "numpy_column_selector_0 = NumpyColumnSelector(columns=[0, 2, 3, 4, 5, 16, 18])\n",
    "compress_strings = CompressStrings(\n",
    "    compress_type=\"hash\",\n",
    "    dtypes_list=[\n",
    "        \"char_str\", \"int_num\", \"char_str\", \"char_str\", \"int_num\", \"int_num\",\n",
    "        \"int_num\",\n",
    "    ],\n",
    "    missing_values_reference_list=[\"\", \"-\", \"?\", float(\"nan\")],\n",
    "    misslist_list=[[], [], [], [], [], [], []],\n",
    ")\n",
    "numpy_replace_missing_values_0 = NumpyReplaceMissingValues(\n",
    "    missing_values=[], filling_values=float(\"nan\")\n",
    ")\n",
    "numpy_replace_unknown_values = NumpyReplaceUnknownValues(\n",
    "    filling_values=float(\"nan\"),\n",
    "    filling_values_list=[\n",
    "        float(\"nan\"), float(\"nan\"), float(\"nan\"), float(\"nan\"), float(\"nan\"),\n",
    "        float(\"nan\"), float(\"nan\"),\n",
    "    ],\n",
    "    missing_values_reference_list=[\"\", \"-\", \"?\", float(\"nan\")],\n",
    ")\n",
    "cat_imputer = CatImputer(\n",
    "    missing_values=float(\"nan\"),\n",
    "    sklearn_version_family=\"1\",\n",
    "    strategy=\"most_frequent\",\n",
    ")\n",
    "cat_encoder = CatEncoder(\n",
    "    encoding=\"ordinal\",\n",
    "    categories=\"auto\",\n",
    "    dtype=np.float64,\n",
    "    handle_unknown=\"error\",\n",
    "    sklearn_version_family=\"1\",\n",
    ")\n",
    "pipeline_0 = make_pipeline(\n",
    "    column_selector_0,\n",
    "    numpy_column_selector_0,\n",
    "    compress_strings,\n",
    "    numpy_replace_missing_values_0,\n",
    "    numpy_replace_unknown_values,\n",
    "    boolean2float(),\n",
    "    cat_imputer,\n",
    "    cat_encoder,\n",
    "    float32_transform(),\n",
    ")\n",
    "column_selector_1 = ColumnSelector(\n",
    "    columns_indices_list=[\n",
    "        0, 1, 2, 4, 5, 6, 7, 8, 9, 10, 11, 12, 13, 14, 15, 16, 17, 18, 19,\n",
    "    ]\n",
    ")\n",
    "numpy_column_selector_1 = NumpyColumnSelector(\n",
    "    columns=[1, 6, 7, 8, 9, 10, 11, 12, 13, 14, 15, 17]\n",
    ")\n",
    "float_str2_float = FloatStr2Float(\n",
    "    dtypes_list=[\n",
    "        \"int_num\", \"float_num\", \"int_num\", \"float_num\", \"float_num\",\n",
    "        \"int_num\", \"float_num\", \"float_num\", \"int_num\", \"float_num\",\n",
    "        \"float_num\", \"float_num\",\n",
    "    ],\n",
    "    missing_values_reference_list=[],\n",
    ")\n",
    "numpy_replace_missing_values_1 = NumpyReplaceMissingValues(\n",
    "    missing_values=[], filling_values=float(\"nan\")\n",
    ")\n",
    "num_imputer = NumImputer(missing_values=float(\"nan\"), strategy=\"median\")\n",
    "opt_standard_scaler = OptStandardScaler(use_scaler_flag=False)\n",
    "pipeline_1 = make_pipeline(\n",
    "    column_selector_1,\n",
    "    numpy_column_selector_1,\n",
    "    float_str2_float,\n",
    "    numpy_replace_missing_values_1,\n",
    "    num_imputer,\n",
    "    opt_standard_scaler,\n",
    "    float32_transform(),\n",
    ")\n",
    "union = make_union(pipeline_0, pipeline_1)\n",
    "numpy_permute_array = NumpyPermuteArray(\n",
    "    axis=0,\n",
    "    permutation_indices=[\n",
    "        0, 2, 3, 4, 5, 16, 18, 1, 6, 7, 8, 9, 10, 11, 12, 13, 14, 15, 17,\n",
    "    ],\n",
    ")\n",
    "ta2_0 = TA2(\n",
    "    fun=np.add,\n",
    "    name=\"sum\",\n",
    "    datatypes1=[\n",
    "        \"intc\", \"intp\", \"int_\", \"uint8\", \"uint16\", \"uint32\", \"uint64\", \"int8\",\n",
    "        \"int16\", \"int32\", \"int64\", \"short\", \"long\", \"longlong\", \"float16\",\n",
    "        \"float32\", \"float64\",\n",
    "    ],\n",
    "    feat_constraints1=[autoai_libs.utils.fc_methods.is_not_categorical],\n",
    "    datatypes2=[\n",
    "        \"intc\", \"intp\", \"int_\", \"uint8\", \"uint16\", \"uint32\", \"uint64\", \"int8\",\n",
    "        \"int16\", \"int32\", \"int64\", \"short\", \"long\", \"longlong\", \"float16\",\n",
    "        \"float32\", \"float64\",\n",
    "    ],\n",
    "    feat_constraints2=[autoai_libs.utils.fc_methods.is_not_categorical],\n",
    "    col_names=[\n",
    "        \"state\", \"account length\", \"area code\", \"international plan\",\n",
    "        \"voice mail plan\", \"number vmail messages\", \"total day minutes\",\n",
    "        \"total day calls\", \"total day charge\", \"total eve minutes\",\n",
    "        \"total eve calls\", \"total eve charge\", \"total night minutes\",\n",
    "        \"total night calls\", \"total night charge\", \"total intl minutes\",\n",
    "        \"total intl calls\", \"total intl charge\", \"customer service calls\",\n",
    "    ],\n",
    "    col_dtypes=[\n",
    "        np.dtype(\"float32\"), np.dtype(\"float32\"), np.dtype(\"float32\"),\n",
    "        np.dtype(\"float32\"), np.dtype(\"float32\"), np.dtype(\"float32\"),\n",
    "        np.dtype(\"float32\"), np.dtype(\"float32\"), np.dtype(\"float32\"),\n",
    "        np.dtype(\"float32\"), np.dtype(\"float32\"), np.dtype(\"float32\"),\n",
    "        np.dtype(\"float32\"), np.dtype(\"float32\"), np.dtype(\"float32\"),\n",
    "        np.dtype(\"float32\"), np.dtype(\"float32\"), np.dtype(\"float32\"),\n",
    "        np.dtype(\"float32\"),\n",
    "    ],\n",
    ")\n",
    "fs1_0 = FS1(\n",
    "    cols_ids_must_keep=range(0, 19),\n",
    "    additional_col_count_to_keep=15,\n",
    "    ptype=\"classification\",\n",
    ")\n",
    "ta2_1 = TA2(\n",
    "    fun=np.multiply,\n",
    "    name=\"product\",\n",
    "    datatypes1=[\n",
    "        \"intc\", \"intp\", \"int_\", \"uint8\", \"uint16\", \"uint32\", \"uint64\", \"int8\",\n",
    "        \"int16\", \"int32\", \"int64\", \"short\", \"long\", \"longlong\", \"float16\",\n",
    "        \"float32\", \"float64\",\n",
    "    ],\n",
    "    feat_constraints1=[autoai_libs.utils.fc_methods.is_not_categorical],\n",
    "    datatypes2=[\n",
    "        \"intc\", \"intp\", \"int_\", \"uint8\", \"uint16\", \"uint32\", \"uint64\", \"int8\",\n",
    "        \"int16\", \"int32\", \"int64\", \"short\", \"long\", \"longlong\", \"float16\",\n",
    "        \"float32\", \"float64\",\n",
    "    ],\n",
    "    feat_constraints2=[autoai_libs.utils.fc_methods.is_not_categorical],\n",
    "    col_names=[\n",
    "        \"state\", \"account length\", \"area code\", \"international plan\",\n",
    "        \"voice mail plan\", \"number vmail messages\", \"total day minutes\",\n",
    "        \"total day calls\", \"total day charge\", \"total eve minutes\",\n",
    "        \"total eve calls\", \"total eve charge\", \"total night minutes\",\n",
    "        \"total night calls\", \"total night charge\", \"total intl minutes\",\n",
    "        \"total intl calls\", \"total intl charge\", \"customer service calls\",\n",
    "        \"sum(state__total day minutes)\",\n",
    "        \"sum(total day minutes__total day calls)\",\n",
    "        \"sum(total day minutes__total day charge)\",\n",
    "        \"sum(total day minutes__total eve minutes)\",\n",
    "        \"sum(total day minutes__total eve calls)\",\n",
    "        \"sum(total day minutes__total eve charge)\",\n",
    "        \"sum(total day minutes__total night calls)\",\n",
    "        \"sum(total day minutes__total night charge)\",\n",
    "        \"sum(total day minutes__total intl minutes)\",\n",
    "        \"sum(total day minutes__total intl calls)\",\n",
    "        \"sum(total day minutes__total intl charge)\",\n",
    "        \"sum(total day charge__total eve charge)\",\n",
    "        \"sum(total day charge__total night charge)\",\n",
    "        \"sum(total day charge__total intl minutes)\",\n",
    "        \"sum(total day charge__total intl charge)\",\n",
    "    ],\n",
    "    col_dtypes=[\n",
    "        np.dtype(\"float32\"), np.dtype(\"float32\"), np.dtype(\"float32\"),\n",
    "        np.dtype(\"float32\"), np.dtype(\"float32\"), np.dtype(\"float32\"),\n",
    "        np.dtype(\"float32\"), np.dtype(\"float32\"), np.dtype(\"float32\"),\n",
    "        np.dtype(\"float32\"), np.dtype(\"float32\"), np.dtype(\"float32\"),\n",
    "        np.dtype(\"float32\"), np.dtype(\"float32\"), np.dtype(\"float32\"),\n",
    "        np.dtype(\"float32\"), np.dtype(\"float32\"), np.dtype(\"float32\"),\n",
    "        np.dtype(\"float32\"), np.dtype(\"float32\"), np.dtype(\"float32\"),\n",
    "        np.dtype(\"float32\"), np.dtype(\"float32\"), np.dtype(\"float32\"),\n",
    "        np.dtype(\"float32\"), np.dtype(\"float32\"), np.dtype(\"float32\"),\n",
    "        np.dtype(\"float32\"), np.dtype(\"float32\"), np.dtype(\"float32\"),\n",
    "        np.dtype(\"float32\"), np.dtype(\"float32\"), np.dtype(\"float32\"),\n",
    "        np.dtype(\"float32\"),\n",
    "    ],\n",
    ")\n",
    "fs1_1 = FS1(\n",
    "    cols_ids_must_keep=range(0, 19),\n",
    "    additional_col_count_to_keep=15,\n",
    "    ptype=\"classification\",\n",
    ")\n",
    "random_forest_classifier = RandomForestClassifier(\n",
    "    class_weight=\"balanced\",\n",
    "    criterion=\"entropy\",\n",
    "    max_depth=5,\n",
    "    max_features=0.9915796247496014,\n",
    "    min_samples_leaf=2,\n",
    "    min_samples_split=5,\n",
    "    n_estimators=91,\n",
    "    n_jobs=CPU_NUMBER,\n",
    "    random_state=33,\n",
    ")\n"
   ]
  },
  {
   "cell_type": "markdown",
   "metadata": {},
   "source": [
    "#### Pipeline."
   ]
  },
  {
   "cell_type": "code",
   "execution_count": 11,
   "metadata": {
    "pycharm": {
     "is_executing": true,
     "name": "#%%\n"
    }
   },
   "outputs": [],
   "source": [
    "pipeline = make_pipeline(\n",
    "    union,\n",
    "    numpy_permute_array,\n",
    "    ta2_0,\n",
    "    fs1_0,\n",
    "    ta2_1,\n",
    "    fs1_1,\n",
    "    random_forest_classifier,\n",
    ")"
   ]
  },
  {
   "cell_type": "markdown",
   "metadata": {},
   "source": [
    "<a id=\"train\"></a>\n",
    "## Train pipeline model\n"
   ]
  },
  {
   "cell_type": "markdown",
   "metadata": {
    "pycharm": {
     "name": "#%% md\n"
    }
   },
   "source": [
    "### Define scorer from the optimization metric\n",
    "This cell constructs the cell scorer based on the experiment metadata."
   ]
  },
  {
   "cell_type": "code",
   "execution_count": 12,
   "metadata": {
    "pycharm": {
     "is_executing": true,
     "name": "#%%\n"
    }
   },
   "outputs": [],
   "source": [
    "from sklearn.metrics import get_scorer\n",
    "\n",
    "scorer = get_scorer(experiment_metadata['scoring'])"
   ]
  },
  {
   "cell_type": "markdown",
   "metadata": {
    "pycharm": {
     "name": "#%% md\n"
    }
   },
   "source": [
    "<a id=\"test_model\"></a>\n",
    "### Fit pipeline model\n",
    "In this cell, the pipeline is fitted."
   ]
  },
  {
   "cell_type": "code",
   "execution_count": 13,
   "metadata": {
    "execution": {
     "iopub.execute_input": "2020-10-12T14:01:19.291734Z",
     "iopub.status.busy": "2020-10-12T14:01:19.244735Z",
     "iopub.status.idle": "2020-10-12T14:01:19.338461Z",
     "shell.execute_reply": "2020-10-12T14:01:19.338958Z"
    },
    "pycharm": {
     "is_executing": true,
     "name": "#%%\n"
    },
    "scrolled": true
   },
   "outputs": [
    {
     "name": "stderr",
     "output_type": "stream",
     "text": [
      "/opt/conda/envs/Python-3.9/lib/python3.9/site-packages/sklearn/utils/validation.py:993: DataConversionWarning: A column-vector y was passed when a 1d array was expected. Please change the shape of y to (n_samples, ), for example using ravel().\n",
      "  y = column_or_1d(y, warn=True)\n",
      "/opt/conda/envs/Python-3.9/lib/python3.9/site-packages/sklearn/utils/validation.py:993: DataConversionWarning: A column-vector y was passed when a 1d array was expected. Please change the shape of y to (n_samples, ), for example using ravel().\n",
      "  y = column_or_1d(y, warn=True)\n",
      "/opt/conda/envs/Python-3.9/lib/python3.9/site-packages/sklearn/pipeline.py:394: DataConversionWarning: A column-vector y was passed when a 1d array was expected. Please change the shape of y to (n_samples,), for example using ravel().\n",
      "  self._final_estimator.fit(Xt, y, **fit_params_last_step)\n"
     ]
    }
   ],
   "source": [
    "pipeline.fit(train_X.values, train_y.values);"
   ]
  },
  {
   "cell_type": "markdown",
   "metadata": {},
   "source": [
    "<a id=\"test_model\"></a>\n",
    "## Test pipeline model"
   ]
  },
  {
   "cell_type": "markdown",
   "metadata": {
    "pycharm": {
     "name": "#%% md\n"
    }
   },
   "source": [
    "Score the fitted pipeline with the generated scorer using the holdout dataset."
   ]
  },
  {
   "cell_type": "code",
   "execution_count": 14,
   "metadata": {
    "execution": {
     "iopub.execute_input": "2020-10-12T14:02:03.910267Z",
     "iopub.status.busy": "2020-10-12T14:02:03.909710Z",
     "iopub.status.idle": "2020-10-12T14:02:03.914154Z",
     "shell.execute_reply": "2020-10-12T14:02:03.914727Z"
    },
    "pycharm": {
     "is_executing": true,
     "name": "#%%\n"
    }
   },
   "outputs": [
    {
     "name": "stdout",
     "output_type": "stream",
     "text": [
      "0.9730538922155688\n"
     ]
    }
   ],
   "source": [
    "score = scorer(pipeline, test_X.values, test_y.values)\n",
    "print(score)"
   ]
  },
  {
   "cell_type": "code",
   "execution_count": 16,
   "metadata": {},
   "outputs": [
    {
     "data": {
      "text/html": [
       "<div>\n",
       "<style scoped>\n",
       "    .dataframe tbody tr th:only-of-type {\n",
       "        vertical-align: middle;\n",
       "    }\n",
       "\n",
       "    .dataframe tbody tr th {\n",
       "        vertical-align: top;\n",
       "    }\n",
       "\n",
       "    .dataframe thead th {\n",
       "        text-align: right;\n",
       "    }\n",
       "</style>\n",
       "<table border=\"1\" class=\"dataframe\">\n",
       "  <thead>\n",
       "    <tr style=\"text-align: right;\">\n",
       "      <th></th>\n",
       "      <th>state</th>\n",
       "      <th>account length</th>\n",
       "      <th>area code</th>\n",
       "      <th>phone number</th>\n",
       "      <th>international plan</th>\n",
       "      <th>voice mail plan</th>\n",
       "      <th>number vmail messages</th>\n",
       "      <th>total day minutes</th>\n",
       "      <th>total day calls</th>\n",
       "      <th>total day charge</th>\n",
       "      <th>total eve minutes</th>\n",
       "      <th>total eve calls</th>\n",
       "      <th>total eve charge</th>\n",
       "      <th>total night minutes</th>\n",
       "      <th>total night calls</th>\n",
       "      <th>total night charge</th>\n",
       "      <th>total intl minutes</th>\n",
       "      <th>total intl calls</th>\n",
       "      <th>total intl charge</th>\n",
       "      <th>customer service calls</th>\n",
       "    </tr>\n",
       "  </thead>\n",
       "  <tbody>\n",
       "    <tr>\n",
       "      <th>2169</th>\n",
       "      <td>IL</td>\n",
       "      <td>156.0</td>\n",
       "      <td>415.0</td>\n",
       "      <td>343-3296</td>\n",
       "      <td>no</td>\n",
       "      <td>no</td>\n",
       "      <td>0.0</td>\n",
       "      <td>174.5</td>\n",
       "      <td>65.0</td>\n",
       "      <td>29.67</td>\n",
       "      <td>197.4</td>\n",
       "      <td>116.0</td>\n",
       "      <td>16.78</td>\n",
       "      <td>238.5</td>\n",
       "      <td>86.0</td>\n",
       "      <td>10.73</td>\n",
       "      <td>10.6</td>\n",
       "      <td>2.0</td>\n",
       "      <td>2.86</td>\n",
       "      <td>0.0</td>\n",
       "    </tr>\n",
       "    <tr>\n",
       "      <th>774</th>\n",
       "      <td>OR</td>\n",
       "      <td>80.0</td>\n",
       "      <td>415.0</td>\n",
       "      <td>391-8087</td>\n",
       "      <td>no</td>\n",
       "      <td>no</td>\n",
       "      <td>0.0</td>\n",
       "      <td>161.1</td>\n",
       "      <td>99.0</td>\n",
       "      <td>27.39</td>\n",
       "      <td>198.8</td>\n",
       "      <td>81.0</td>\n",
       "      <td>16.90</td>\n",
       "      <td>228.4</td>\n",
       "      <td>116.0</td>\n",
       "      <td>10.28</td>\n",
       "      <td>10.6</td>\n",
       "      <td>4.0</td>\n",
       "      <td>2.86</td>\n",
       "      <td>1.0</td>\n",
       "    </tr>\n",
       "    <tr>\n",
       "      <th>1601</th>\n",
       "      <td>AR</td>\n",
       "      <td>99.0</td>\n",
       "      <td>510.0</td>\n",
       "      <td>387-2604</td>\n",
       "      <td>yes</td>\n",
       "      <td>no</td>\n",
       "      <td>0.0</td>\n",
       "      <td>242.3</td>\n",
       "      <td>102.0</td>\n",
       "      <td>41.19</td>\n",
       "      <td>350.9</td>\n",
       "      <td>102.0</td>\n",
       "      <td>29.83</td>\n",
       "      <td>163.1</td>\n",
       "      <td>93.0</td>\n",
       "      <td>7.34</td>\n",
       "      <td>11.3</td>\n",
       "      <td>3.0</td>\n",
       "      <td>3.05</td>\n",
       "      <td>0.0</td>\n",
       "    </tr>\n",
       "    <tr>\n",
       "      <th>516</th>\n",
       "      <td>MS</td>\n",
       "      <td>96.0</td>\n",
       "      <td>510.0</td>\n",
       "      <td>420-5990</td>\n",
       "      <td>no</td>\n",
       "      <td>no</td>\n",
       "      <td>0.0</td>\n",
       "      <td>98.2</td>\n",
       "      <td>100.0</td>\n",
       "      <td>16.69</td>\n",
       "      <td>307.2</td>\n",
       "      <td>88.0</td>\n",
       "      <td>26.11</td>\n",
       "      <td>182.5</td>\n",
       "      <td>120.0</td>\n",
       "      <td>8.21</td>\n",
       "      <td>7.6</td>\n",
       "      <td>1.0</td>\n",
       "      <td>2.05</td>\n",
       "      <td>2.0</td>\n",
       "    </tr>\n",
       "    <tr>\n",
       "      <th>251</th>\n",
       "      <td>NJ</td>\n",
       "      <td>106.0</td>\n",
       "      <td>415.0</td>\n",
       "      <td>365-2153</td>\n",
       "      <td>no</td>\n",
       "      <td>no</td>\n",
       "      <td>0.0</td>\n",
       "      <td>207.9</td>\n",
       "      <td>91.0</td>\n",
       "      <td>35.34</td>\n",
       "      <td>172.0</td>\n",
       "      <td>109.0</td>\n",
       "      <td>14.62</td>\n",
       "      <td>191.8</td>\n",
       "      <td>143.0</td>\n",
       "      <td>8.63</td>\n",
       "      <td>14.4</td>\n",
       "      <td>7.0</td>\n",
       "      <td>3.89</td>\n",
       "      <td>4.0</td>\n",
       "    </tr>\n",
       "    <tr>\n",
       "      <th>...</th>\n",
       "      <td>...</td>\n",
       "      <td>...</td>\n",
       "      <td>...</td>\n",
       "      <td>...</td>\n",
       "      <td>...</td>\n",
       "      <td>...</td>\n",
       "      <td>...</td>\n",
       "      <td>...</td>\n",
       "      <td>...</td>\n",
       "      <td>...</td>\n",
       "      <td>...</td>\n",
       "      <td>...</td>\n",
       "      <td>...</td>\n",
       "      <td>...</td>\n",
       "      <td>...</td>\n",
       "      <td>...</td>\n",
       "      <td>...</td>\n",
       "      <td>...</td>\n",
       "      <td>...</td>\n",
       "      <td>...</td>\n",
       "    </tr>\n",
       "    <tr>\n",
       "      <th>2450</th>\n",
       "      <td>NY</td>\n",
       "      <td>137.0</td>\n",
       "      <td>510.0</td>\n",
       "      <td>338-7955</td>\n",
       "      <td>no</td>\n",
       "      <td>no</td>\n",
       "      <td>0.0</td>\n",
       "      <td>109.8</td>\n",
       "      <td>120.0</td>\n",
       "      <td>18.67</td>\n",
       "      <td>230.5</td>\n",
       "      <td>86.0</td>\n",
       "      <td>19.59</td>\n",
       "      <td>255.8</td>\n",
       "      <td>103.0</td>\n",
       "      <td>11.51</td>\n",
       "      <td>11.9</td>\n",
       "      <td>6.0</td>\n",
       "      <td>3.21</td>\n",
       "      <td>1.0</td>\n",
       "    </tr>\n",
       "    <tr>\n",
       "      <th>1240</th>\n",
       "      <td>TN</td>\n",
       "      <td>108.0</td>\n",
       "      <td>510.0</td>\n",
       "      <td>356-8449</td>\n",
       "      <td>no</td>\n",
       "      <td>yes</td>\n",
       "      <td>34.0</td>\n",
       "      <td>162.1</td>\n",
       "      <td>83.0</td>\n",
       "      <td>27.56</td>\n",
       "      <td>171.8</td>\n",
       "      <td>117.0</td>\n",
       "      <td>14.60</td>\n",
       "      <td>259.8</td>\n",
       "      <td>76.0</td>\n",
       "      <td>11.69</td>\n",
       "      <td>9.6</td>\n",
       "      <td>3.0</td>\n",
       "      <td>2.59</td>\n",
       "      <td>4.0</td>\n",
       "    </tr>\n",
       "    <tr>\n",
       "      <th>582</th>\n",
       "      <td>NM</td>\n",
       "      <td>104.0</td>\n",
       "      <td>415.0</td>\n",
       "      <td>356-7217</td>\n",
       "      <td>no</td>\n",
       "      <td>no</td>\n",
       "      <td>0.0</td>\n",
       "      <td>164.2</td>\n",
       "      <td>109.0</td>\n",
       "      <td>27.91</td>\n",
       "      <td>155.4</td>\n",
       "      <td>90.0</td>\n",
       "      <td>13.21</td>\n",
       "      <td>168.9</td>\n",
       "      <td>117.0</td>\n",
       "      <td>7.60</td>\n",
       "      <td>10.7</td>\n",
       "      <td>8.0</td>\n",
       "      <td>2.89</td>\n",
       "      <td>1.0</td>\n",
       "    </tr>\n",
       "    <tr>\n",
       "      <th>278</th>\n",
       "      <td>AL</td>\n",
       "      <td>131.0</td>\n",
       "      <td>415.0</td>\n",
       "      <td>361-7998</td>\n",
       "      <td>no</td>\n",
       "      <td>yes</td>\n",
       "      <td>25.0</td>\n",
       "      <td>192.7</td>\n",
       "      <td>85.0</td>\n",
       "      <td>32.76</td>\n",
       "      <td>225.9</td>\n",
       "      <td>105.0</td>\n",
       "      <td>19.20</td>\n",
       "      <td>254.2</td>\n",
       "      <td>59.0</td>\n",
       "      <td>11.44</td>\n",
       "      <td>10.9</td>\n",
       "      <td>6.0</td>\n",
       "      <td>2.94</td>\n",
       "      <td>2.0</td>\n",
       "    </tr>\n",
       "    <tr>\n",
       "      <th>1299</th>\n",
       "      <td>UT</td>\n",
       "      <td>49.0</td>\n",
       "      <td>415.0</td>\n",
       "      <td>394-4520</td>\n",
       "      <td>no</td>\n",
       "      <td>no</td>\n",
       "      <td>0.0</td>\n",
       "      <td>266.3</td>\n",
       "      <td>90.0</td>\n",
       "      <td>45.27</td>\n",
       "      <td>207.8</td>\n",
       "      <td>117.0</td>\n",
       "      <td>17.66</td>\n",
       "      <td>205.0</td>\n",
       "      <td>98.0</td>\n",
       "      <td>9.23</td>\n",
       "      <td>14.0</td>\n",
       "      <td>2.0</td>\n",
       "      <td>3.78</td>\n",
       "      <td>2.0</td>\n",
       "    </tr>\n",
       "  </tbody>\n",
       "</table>\n",
       "<p>334 rows × 20 columns</p>\n",
       "</div>"
      ],
      "text/plain": [
       "     state  account length  area code phone number international plan  \\\n",
       "2169    IL           156.0      415.0     343-3296                 no   \n",
       "774     OR            80.0      415.0     391-8087                 no   \n",
       "1601    AR            99.0      510.0     387-2604                yes   \n",
       "516     MS            96.0      510.0     420-5990                 no   \n",
       "251     NJ           106.0      415.0     365-2153                 no   \n",
       "...    ...             ...        ...          ...                ...   \n",
       "2450    NY           137.0      510.0     338-7955                 no   \n",
       "1240    TN           108.0      510.0     356-8449                 no   \n",
       "582     NM           104.0      415.0     356-7217                 no   \n",
       "278     AL           131.0      415.0     361-7998                 no   \n",
       "1299    UT            49.0      415.0     394-4520                 no   \n",
       "\n",
       "     voice mail plan  number vmail messages  total day minutes  \\\n",
       "2169              no                    0.0              174.5   \n",
       "774               no                    0.0              161.1   \n",
       "1601              no                    0.0              242.3   \n",
       "516               no                    0.0               98.2   \n",
       "251               no                    0.0              207.9   \n",
       "...              ...                    ...                ...   \n",
       "2450              no                    0.0              109.8   \n",
       "1240             yes                   34.0              162.1   \n",
       "582               no                    0.0              164.2   \n",
       "278              yes                   25.0              192.7   \n",
       "1299              no                    0.0              266.3   \n",
       "\n",
       "      total day calls  total day charge  total eve minutes  total eve calls  \\\n",
       "2169             65.0             29.67              197.4            116.0   \n",
       "774              99.0             27.39              198.8             81.0   \n",
       "1601            102.0             41.19              350.9            102.0   \n",
       "516             100.0             16.69              307.2             88.0   \n",
       "251              91.0             35.34              172.0            109.0   \n",
       "...               ...               ...                ...              ...   \n",
       "2450            120.0             18.67              230.5             86.0   \n",
       "1240             83.0             27.56              171.8            117.0   \n",
       "582             109.0             27.91              155.4             90.0   \n",
       "278              85.0             32.76              225.9            105.0   \n",
       "1299             90.0             45.27              207.8            117.0   \n",
       "\n",
       "      total eve charge  total night minutes  total night calls  \\\n",
       "2169             16.78                238.5               86.0   \n",
       "774              16.90                228.4              116.0   \n",
       "1601             29.83                163.1               93.0   \n",
       "516              26.11                182.5              120.0   \n",
       "251              14.62                191.8              143.0   \n",
       "...                ...                  ...                ...   \n",
       "2450             19.59                255.8              103.0   \n",
       "1240             14.60                259.8               76.0   \n",
       "582              13.21                168.9              117.0   \n",
       "278              19.20                254.2               59.0   \n",
       "1299             17.66                205.0               98.0   \n",
       "\n",
       "      total night charge  total intl minutes  total intl calls  \\\n",
       "2169               10.73                10.6               2.0   \n",
       "774                10.28                10.6               4.0   \n",
       "1601                7.34                11.3               3.0   \n",
       "516                 8.21                 7.6               1.0   \n",
       "251                 8.63                14.4               7.0   \n",
       "...                  ...                 ...               ...   \n",
       "2450               11.51                11.9               6.0   \n",
       "1240               11.69                 9.6               3.0   \n",
       "582                 7.60                10.7               8.0   \n",
       "278                11.44                10.9               6.0   \n",
       "1299                9.23                14.0               2.0   \n",
       "\n",
       "      total intl charge  customer service calls  \n",
       "2169               2.86                     0.0  \n",
       "774                2.86                     1.0  \n",
       "1601               3.05                     0.0  \n",
       "516                2.05                     2.0  \n",
       "251                3.89                     4.0  \n",
       "...                 ...                     ...  \n",
       "2450               3.21                     1.0  \n",
       "1240               2.59                     4.0  \n",
       "582                2.89                     1.0  \n",
       "278                2.94                     2.0  \n",
       "1299               3.78                     2.0  \n",
       "\n",
       "[334 rows x 20 columns]"
      ]
     },
     "execution_count": 16,
     "metadata": {},
     "output_type": "execute_result"
    }
   ],
   "source": [
    "test_X"
   ]
  },
  {
   "cell_type": "code",
   "execution_count": 17,
   "metadata": {
    "pycharm": {
     "name": "#%%\n"
    }
   },
   "outputs": [],
   "source": [
    "#pipeline.predict(test_X.values)\n",
    "import pandas  as pd\n",
    "import numpy as np\n",
    "#pd.DataFrame(test_X)"
   ]
  },
  {
   "cell_type": "code",
   "execution_count": 48,
   "metadata": {},
   "outputs": [
    {
     "data": {
      "text/plain": [
       "array([['NY', '161', '415', '351-7269', 'no', 'no', '0', '332.9', '67',\n",
       "        '56.59', '317.8', '97', '27.01', '160.6', '128', '7.23', '5.4',\n",
       "        '9', '1.46', '4']], dtype='<U32')"
      ]
     },
     "execution_count": 48,
     "metadata": {},
     "output_type": "execute_result"
    }
   ],
   "source": [
    "data = {\"state\":\"NY\",\"account length\":161,\n",
    "                               \"area code\":415,\"phone number\" :\"351-7269\",\n",
    "                               \"international plan\": \"no\",\"voice mail plan\": \"no\",\n",
    "                               \"number vmail messages\":0,\"total day minutes\":332.9,\n",
    "                               \"total day calls\":67,\"total day charge\": 56.59,\n",
    "                               \"total eve minutes\": 317.8,\"total eve calls\":97,\"total eve charge\": 27.01,\n",
    "                               \"total night minutes\": 160.6,\"total night calls\": 128,\"total night charge\":7.23,\n",
    "                               \"total intl minutes\": 5.4,\"total intl calls\":9,\"total intl charge\": 1.46,\n",
    "                               \"customer service calls\":4}\n",
    "data_array = list(data.values())\n",
    "an_array = np.array(data_array)\n",
    "an_array = np.reshape(an_array,(1,an_array.size))\n",
    "an_array"
   ]
  },
  {
   "cell_type": "code",
   "execution_count": 49,
   "metadata": {},
   "outputs": [
    {
     "data": {
      "text/plain": [
       "array(['True'], dtype=object)"
      ]
     },
     "execution_count": 49,
     "metadata": {},
     "output_type": "execute_result"
    }
   ],
   "source": [
    "pipeline.predict(an_array)"
   ]
  },
  {
   "cell_type": "markdown",
   "metadata": {},
   "source": [
    "<a id=\"copyrights\"></a>\n",
    "### Copyrights\n",
    "\n",
    "Licensed Materials - Copyright © 2022 IBM. This notebook and its source code are released under the terms of the ILAN License. Use, duplication disclosure restricted by GSA ADP Schedule Contract with IBM Corp.\n",
    "\n",
    "**Note:** The auto-generated notebooks are subject to the International License Agreement for Non-Warranted Programs (or equivalent) and License Information document for Watson Studio Auto-generated Notebook (License Terms), such agreements located in the link below. Specifically, the Source Components and Sample Materials clause included in the License Information document for Watson Studio Auto-generated Notebook applies to the auto-generated notebooks.  \n",
    "\n",
    "By downloading, copying, accessing, or otherwise using the materials, you agree to the <a href=\"http://www14.software.ibm.com/cgi-bin/weblap/lap.pl?li_formnum=L-AMCU-BYC7LF\">License Terms</a>\n",
    "\n",
    "___"
   ]
  }
 ],
 "metadata": {
  "kernelspec": {
   "display_name": "Python 3 (ipykernel)",
   "language": "python",
   "name": "python3"
  },
  "language_info": {
   "codemirror_mode": {
    "name": "ipython",
    "version": 3
   },
   "file_extension": ".py",
   "mimetype": "text/x-python",
   "name": "python",
   "nbconvert_exporter": "python",
   "pygments_lexer": "ipython3",
   "version": "3.9.6"
  }
 },
 "nbformat": 4,
 "nbformat_minor": 2
}
